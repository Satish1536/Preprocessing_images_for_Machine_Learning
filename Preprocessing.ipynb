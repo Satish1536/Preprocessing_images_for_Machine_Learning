{
  "nbformat": 4,
  "nbformat_minor": 0,
  "metadata": {
    "colab": {
      "name": "Preprocessing.ipynb",
      "version": "0.3.2",
      "provenance": [],
      "collapsed_sections": []
    },
    "kernelspec": {
      "name": "python3",
      "display_name": "Python 3"
    }
  },
  "cells": [
    {
      "cell_type": "markdown",
      "metadata": {
        "id": "GHsAQaB27Xyc",
        "colab_type": "text"
      },
      "source": [
        "## **UnZip File In Colab**"
      ]
    },
    {
      "cell_type": "code",
      "metadata": {
        "id": "Escjl8y_7oyX",
        "colab_type": "code",
        "colab": {}
      },
      "source": [
        "# importing required modules \n",
        "from zipfile import ZipFile \n",
        "\n",
        "# specifying the zip file name \n",
        "file_name = \"category.zip\"\n",
        "\n",
        "# opening the zip file in READ mode \n",
        "with ZipFile(file_name, 'r') as zip: \n",
        "\t# printing all the contents of the zip file \n",
        "\tzip.printdir() \n",
        "\n",
        "\t# extracting all the files \n",
        "\tprint('Extracting all the files now...') \n",
        "\tzip.extractall() \n",
        "\tprint('Done!') "
      ],
      "execution_count": 0,
      "outputs": []
    },
    {
      "cell_type": "markdown",
      "metadata": {
        "id": "YejQ5HuO7yBv",
        "colab_type": "text"
      },
      "source": [
        "#**Downsampled**"
      ]
    },
    {
      "cell_type": "code",
      "metadata": {
        "id": "Lo62eqddwCXh",
        "colab_type": "code",
        "colab": {}
      },
      "source": [
        "from shutil import copy\n",
        "import os\n",
        "from random import shuffle\n",
        "\n",
        "path_base = '/content/drive/My Drive/Colab Notebooks/Dog Breed/'\n",
        "all_classes = os.listdir(path_base + 'preprocessing/')\n",
        "\n",
        "b = 0\n",
        "for breed in all_classes:\n",
        "    current_breed_images = os.listdir(os.path.join(path_base, 'preprocessing', breed))\n",
        "    shuffle(current_breed_images)\n",
        "    current_breed_images = current_breed_images[:66]\n",
        "    c = 0\n",
        "    for current_img in current_breed_images:\n",
        "        path_from = os.path.join(path_base, 'preprocessing', breed, current_img)\n",
        "        path_to = os.path.join(path_base, 'downsampled', breed, current_img)\n",
        "        if not os.path.exists(os.path.join(path_base, 'downsampled')):\n",
        "            os.mkdir(os.path.join(path_base, 'downsampled'))\n",
        "\n",
        "        if not os.path.exists(os.path.join(path_base, 'downsampled', breed)):\n",
        "            os.mkdir(os.path.join(path_base, 'downsampled', breed))\n",
        "\n",
        "        copy(path_from, path_to)\n",
        "        c += 1\n",
        "    print('Copied {} images of {}'.format(c, breed))\n",
        "    b += 1\n",
        "print('done:', b)\n"
      ],
      "execution_count": 0,
      "outputs": []
    },
    {
      "cell_type": "markdown",
      "metadata": {
        "id": "sME9gPeL75J8",
        "colab_type": "text"
      },
      "source": [
        "#**Create Validation set Using Training Dataset**"
      ]
    },
    {
      "cell_type": "code",
      "metadata": {
        "id": "ggAKTucaJVTG",
        "colab_type": "code",
        "colab": {}
      },
      "source": [
        "train_path='/content/drive/My Drive/Crop/PlantVillage'\n",
        "valid_perct=20\n",
        "valid_path='/content/drive/My Drive/Crop/pv_valid'\n",
        "\n",
        "def split_dataset(valid_perct, train_path,valid_path):\n",
        "    total_class = os.listdir(train_path)\n",
        "    for directory in total_class:\n",
        "        os.chdir(os.path.join(train_path,directory))\n",
        "        img_names = os.listdir(os.path.join(train_path,directory))\n",
        "        length = len(img_names)\n",
        "        num = int(length*valid_perct/100)\n",
        "        random.shuffle(img_names)\n",
        "        counter=0\n",
        "        for i in img_names[:num]:\n",
        "            os.chdir(valid_path)\n",
        "            if not os.path.exists(directory):\n",
        "                os.mkdir(directory)\n",
        "            shutil.move(os.path.join(train_path,directory,i),\n",
        "                        os.path.join(valid_path,directory))\n",
        "            if (counter == num-2):\n",
        "                print(f'{directory} valid set is created....')\n",
        "\n",
        "\n",
        "split_dataset(valid_perct,train_path,valid_path)\n",
        "print('Done')"
      ],
      "execution_count": 0,
      "outputs": []
    }
  ]
}