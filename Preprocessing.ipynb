{
 "cells": [
  {
   "cell_type": "markdown",
   "metadata": {
    "colab_type": "text",
    "id": "GHsAQaB27Xyc"
   },
   "source": [
    "## **UnZip File In Colab**"
   ]
  },
  {
   "cell_type": "code",
   "execution_count": 0,
   "metadata": {
    "colab": {},
    "colab_type": "code",
    "id": "Escjl8y_7oyX"
   },
   "outputs": [],
   "source": [
    "# importing required modules \n",
    "from zipfile import ZipFile \n",
    "zip_path = \n",
    "unzip_path = \n",
    "\n",
    "# specifying the zip file name \n",
    "file_name = \"category.zip\"\n",
    "\n",
    "# opening the zip file in READ mode \n",
    "with ZipFile(file_name, 'r') as zip: \n",
    "\t# printing all the contents of the zip file \n",
    "\tzip.printdir() \n",
    "\n",
    "\t# extracting all the files \n",
    "\tprint('Extracting all the files now...') \n",
    "\tzip.extractall(unzip_path) \n",
    "\tprint('Done!') "
   ]
  },
  {
   "cell_type": "markdown",
   "metadata": {
    "colab_type": "text",
    "id": "YejQ5HuO7yBv"
   },
   "source": [
    "#**Downsampled**"
   ]
  },
  {
   "cell_type": "code",
   "execution_count": null,
   "metadata": {},
   "outputs": [],
   "source": [
    "from shutil import copy\n",
    "import os\n",
    "from random import shuffle\n",
    "\n",
    "path_base = \n",
    "unsampled_folder_path = \n",
    "downsampled_folder_path = \n",
    "all_classes = os.listdir(unsampled_folder_path)\n",
    "\n",
    "\n",
    "mini = min([len(os.listdir(unsampled_folder_path+'/'+i) for i in os.listdir(unsampled_folder_path))])\n",
    "\n",
    "b = 0\n",
    "for category in all_classes:\n",
    "    current_category_images = os.listdir(os.path.join(unsampled_folder_path, breed))\n",
    "    shuffle(current_category_images)\n",
    "    current_category_images = current_category_images[:mini]\n",
    "    c = 0\n",
    "    for current_img in current_category_images:\n",
    "        path_from = os.path.join(unsampled_folder_path, category, current_img)\n",
    "        path_to = os.path.join(downsampled_folder_path, category, current_img)\n",
    "        if not os.path.exists(os.path.join(downsampled_folder_path)):\n",
    "            os.mkdir(os.path.join(downsampled_folder_path))\n",
    "        \n",
    "        if not os.path.exists(os.path.join(downsampled_folder_path, category)):\n",
    "            os.mkdir(os.path.join(downsampled_folder_path, category))\n",
    "\n",
    "        copy(path_from, path_to)\n",
    "        c += 1\n",
    "    print('Copied {} images of {}'.format(c, category))\n",
    "    b += 1\n",
    "print('done:', b)\n"
   ]
  },
  {
   "cell_type": "markdown",
   "metadata": {
    "colab_type": "text",
    "id": "sME9gPeL75J8"
   },
   "source": [
    "#**Create Validation set Using Training Dataset**"
   ]
  },
  {
   "cell_type": "code",
   "execution_count": 0,
   "metadata": {
    "colab": {},
    "colab_type": "code",
    "id": "ggAKTucaJVTG"
   },
   "outputs": [],
   "source": [
    "train_path='/content/drive/My Drive/Crop/PlantVillage'\n",
    "valid_perct=20\n",
    "valid_path='/content/drive/My Drive/Crop/pv_valid'\n",
    "\n",
    "def split_dataset(valid_perct, train_path,valid_path):\n",
    "    total_class = os.listdir(train_path)\n",
    "    for directory in total_class:\n",
    "        os.chdir(os.path.join(train_path,directory))\n",
    "        img_names = os.listdir(os.path.join(train_path,directory))\n",
    "        length = len(img_names)\n",
    "        num = int(length*valid_perct/100)\n",
    "        random.shuffle(img_names)\n",
    "        counter=0\n",
    "        for i in img_names[:num]:\n",
    "            os.chdir(valid_path)\n",
    "            if not os.path.exists(directory):\n",
    "                os.mkdir(directory)\n",
    "            shutil.move(os.path.join(train_path,directory,i),\n",
    "                        os.path.join(valid_path,directory))\n",
    "            if (counter == num-2):\n",
    "                print(f'{directory} valid set is created....')\n",
    "\n",
    "\n",
    "split_dataset(valid_perct,train_path,valid_path)\n",
    "print('Done')"
   ]
  }
 ],
 "metadata": {
  "colab": {
   "collapsed_sections": [],
   "name": "Preprocessing.ipynb",
   "provenance": [],
   "version": "0.3.2"
  },
  "kernelspec": {
   "display_name": "Python 3",
   "language": "python",
   "name": "python3"
  },
  "language_info": {
   "codemirror_mode": {
    "name": "ipython",
    "version": 3
   },
   "file_extension": ".py",
   "mimetype": "text/x-python",
   "name": "python",
   "nbconvert_exporter": "python",
   "pygments_lexer": "ipython3",
   "version": "3.7.3"
  }
 },
 "nbformat": 4,
 "nbformat_minor": 1
}
